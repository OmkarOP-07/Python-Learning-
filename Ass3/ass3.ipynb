{
 "cells": [
  {
   "cell_type": "code",
   "execution_count": 7,
   "id": "0b638575-2b4a-442d-8b1a-7c7b0f5252f0",
   "metadata": {},
   "outputs": [
    {
     "name": "stdout",
     "output_type": "stream",
     "text": [
      "None\n",
      "<class 'NoneType'>\n"
     ]
    }
   ],
   "source": [
    "x = None  #None\n",
    "print(x)  \n",
    "print(type(x))  \n"
   ]
  },
  {
   "cell_type": "code",
   "execution_count": 8,
   "id": "fdf5b0d7-5dab-45ef-a77d-7d9428bdec8d",
   "metadata": {},
   "outputs": [
    {
     "name": "stdout",
     "output_type": "stream",
     "text": [
      "10\n",
      "<class 'int'>\n"
     ]
    }
   ],
   "source": [
    "x = 10 #int\n",
    "print(x)  \n",
    "print(type(x))\n"
   ]
  },
  {
   "cell_type": "code",
   "execution_count": 9,
   "id": "174841ab-cbbd-4fa7-9cfe-1dcfd99b78b0",
   "metadata": {},
   "outputs": [
    {
     "name": "stdout",
     "output_type": "stream",
     "text": [
      "10.5\n",
      "<class 'float'>\n"
     ]
    }
   ],
   "source": [
    "x = 10.5 #float\n",
    "print(x)  \n",
    "print(type(x))  "
   ]
  },
  {
   "cell_type": "code",
   "execution_count": 10,
   "id": "c0bc56b3-7f23-46c0-a7cf-ee2d28d0a853",
   "metadata": {},
   "outputs": [
    {
     "name": "stdout",
     "output_type": "stream",
     "text": [
      "(3+4j)\n",
      "<class 'complex'>\n"
     ]
    }
   ],
   "source": [
    "x = 3 + 4j #complex\n",
    "print(x)  \n",
    "print(type(x))  "
   ]
  },
  {
   "cell_type": "code",
   "execution_count": 11,
   "id": "4f5d0dce-6a8e-42fe-9299-2031dd19e717",
   "metadata": {},
   "outputs": [
    {
     "name": "stdout",
     "output_type": "stream",
     "text": [
      "True False\n",
      "<class 'bool'>\n"
     ]
    }
   ],
   "source": [
    "x = True #Boolean\n",
    "y = False\n",
    "print(x, y)  \n",
    "print(type(x))  "
   ]
  },
  {
   "cell_type": "code",
   "execution_count": 12,
   "id": "4d4de1c3-2aa4-43a2-b847-c4170444b30a",
   "metadata": {},
   "outputs": [
    {
     "name": "stdout",
     "output_type": "stream",
     "text": [
      "[1, 2, 3, 'Python', True]\n",
      "<class 'list'>\n"
     ]
    }
   ],
   "source": [
    "x = [1, 2, 3, \"Python\", True] #list\n",
    "print(x) \n",
    "print(type(x))  "
   ]
  },
  {
   "cell_type": "code",
   "execution_count": 13,
   "id": "168379c2-a4fc-4d54-b404-77d6fe64c842",
   "metadata": {},
   "outputs": [
    {
     "name": "stdout",
     "output_type": "stream",
     "text": [
      "(1, 2, 3, 'Python', True)\n",
      "<class 'tuple'>\n"
     ]
    }
   ],
   "source": [
    "x = (1, 2, 3, \"Python\", True) #tuple\n",
    "print(x)  \n",
    "print(type(x)) "
   ]
  },
  {
   "cell_type": "code",
   "execution_count": 14,
   "id": "04fdeca0-ce4d-4485-8521-9ad53631d2ef",
   "metadata": {},
   "outputs": [
    {
     "name": "stdout",
     "output_type": "stream",
     "text": [
      "{1, 2, 3, 'Python'}\n",
      "<class 'set'>\n"
     ]
    }
   ],
   "source": [
    "x = {1, 2, 3, 3, \"Python\"} #set\n",
    "print(x)  \n",
    "print(type(x))  "
   ]
  },
  {
   "cell_type": "code",
   "execution_count": 15,
   "id": "d273146f-4b78-41b7-8b19-997ee9e74c9c",
   "metadata": {},
   "outputs": [
    {
     "name": "stdout",
     "output_type": "stream",
     "text": [
      "frozenset({1, 2, 3, 'Python'})\n",
      "<class 'frozenset'>\n"
     ]
    }
   ],
   "source": [
    "x = frozenset({1, 2, 3, \"Python\"}) #frozenset\n",
    "print(x)  \n",
    "print(type(x))  "
   ]
  },
  {
   "cell_type": "code",
   "execution_count": 16,
   "id": "598f9542-e16a-456a-9b83-587b257df6bb",
   "metadata": {},
   "outputs": [
    {
     "name": "stdout",
     "output_type": "stream",
     "text": [
      "range(0, 5)\n",
      "[0, 1, 2, 3, 4]\n",
      "<class 'range'>\n"
     ]
    }
   ],
   "source": [
    "x = range(5) #range\n",
    "print(x)  \n",
    "print(list(x))  \n",
    "print(type(x))  "
   ]
  },
  {
   "cell_type": "code",
   "execution_count": 17,
   "id": "e03719e4-ce69-4b85-a2cc-f36bf47a4925",
   "metadata": {},
   "outputs": [
    {
     "name": "stdout",
     "output_type": "stream",
     "text": [
      "{'name': 'Alice', 'age': 25, 'city': 'New York'}\n",
      "<class 'dict'>\n"
     ]
    }
   ],
   "source": [
    "x = {\"name\": \"Alice\", \"age\": 25, \"city\": \"New York\"} #dictionary\n",
    "print(x)  \n",
    "print(type(x)) "
   ]
  },
  {
   "cell_type": "code",
   "execution_count": 18,
   "id": "9f5c0e43-2ed0-4ad5-bfc6-9412b89b9d55",
   "metadata": {},
   "outputs": [
    {
     "name": "stdout",
     "output_type": "stream",
     "text": [
      "Hello, Python!\n",
      "<class 'str'>\n"
     ]
    }
   ],
   "source": [
    "x = \"Hello, Python!\" #Strings\n",
    "print(x)  \n",
    "print(type(x)) "
   ]
  }
 ],
 "metadata": {
  "kernelspec": {
   "display_name": "Python 3 (ipykernel)",
   "language": "python",
   "name": "python3"
  },
  "language_info": {
   "codemirror_mode": {
    "name": "ipython",
    "version": 3
   },
   "file_extension": ".py",
   "mimetype": "text/x-python",
   "name": "python",
   "nbconvert_exporter": "python",
   "pygments_lexer": "ipython3",
   "version": "3.12.7"
  }
 },
 "nbformat": 4,
 "nbformat_minor": 5
}

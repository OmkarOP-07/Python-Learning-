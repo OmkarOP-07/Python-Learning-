{
 "cells": [
  {
   "cell_type": "markdown",
   "id": "26d47233",
   "metadata": {},
   "source": []
  },
  {
   "cell_type": "markdown",
   "id": "812cfe03-54ba-4f4b-998b-621f25dc9375",
   "metadata": {},
   "source": [
    "# Welcome to numpy #"
   ]
  },
  {
   "cell_type": "code",
   "execution_count": 1,
   "id": "7676a45e-223a-4a51-aaee-975fa440bea9",
   "metadata": {},
   "outputs": [],
   "source": [
    "import numpy as np"
   ]
  },
  {
   "cell_type": "code",
   "execution_count": 2,
   "id": "9b627b42-51e3-476d-b09b-3c8539b21e39",
   "metadata": {},
   "outputs": [],
   "source": [
    "myArr = np.array([2,3,2,1], np.int64)"
   ]
  },
  {
   "cell_type": "code",
   "execution_count": 3,
   "id": "13404b70-fafa-4213-95fe-13a09ddc5b55",
   "metadata": {},
   "outputs": [
    {
     "data": {
      "text/plain": [
       "array([2, 3, 2, 1])"
      ]
     },
     "execution_count": 3,
     "metadata": {},
     "output_type": "execute_result"
    }
   ],
   "source": [
    "myArr"
   ]
  },
  {
   "cell_type": "code",
   "execution_count": 4,
   "id": "8fd51104-0a1f-4f86-804e-84c191ef8c21",
   "metadata": {},
   "outputs": [
    {
     "data": {
      "text/plain": [
       "(4,)"
      ]
     },
     "execution_count": 4,
     "metadata": {},
     "output_type": "execute_result"
    }
   ],
   "source": [
    "myArr.shape"
   ]
  },
  {
   "cell_type": "code",
   "execution_count": 5,
   "id": "158308ae-9e26-4aa9-b7b7-47a1580b300a",
   "metadata": {},
   "outputs": [
    {
     "data": {
      "text/plain": [
       "dtype('int64')"
      ]
     },
     "execution_count": 5,
     "metadata": {},
     "output_type": "execute_result"
    }
   ],
   "source": [
    "myArr.dtype"
   ]
  },
  {
   "cell_type": "markdown",
   "id": "d542af72-b9f4-4435-8aeb-de38e6ffbe81",
   "metadata": {},
   "source": [
    "# Array declaration in Numpy "
   ]
  },
  {
   "cell_type": "code",
   "execution_count": 6,
   "id": "5aff8a26-af00-4587-bb99-9ff7c57b2b42",
   "metadata": {},
   "outputs": [],
   "source": [
    "import numpy as np\n",
    "listArray = np.array([[1,2,3], [4,5,6], [7,8,9]])"
   ]
  },
  {
   "cell_type": "code",
   "execution_count": 7,
   "id": "5eebc33a-b023-4a0f-8634-744d87d064cd",
   "metadata": {},
   "outputs": [
    {
     "data": {
      "text/plain": [
       "array([[1, 2, 3],\n",
       "       [4, 5, 6],\n",
       "       [7, 8, 9]])"
      ]
     },
     "execution_count": 7,
     "metadata": {},
     "output_type": "execute_result"
    }
   ],
   "source": [
    "listArray"
   ]
  },
  {
   "cell_type": "code",
   "execution_count": 8,
   "id": "8a2407db-ec0b-4040-89af-7b4c9bad8d44",
   "metadata": {},
   "outputs": [
    {
     "data": {
      "text/plain": [
       "dtype('int64')"
      ]
     },
     "execution_count": 8,
     "metadata": {},
     "output_type": "execute_result"
    }
   ],
   "source": [
    "listArray.dtype"
   ]
  },
  {
   "cell_type": "code",
   "execution_count": 9,
   "id": "775e6624-6b50-4887-a8fe-79ea63dc76da",
   "metadata": {},
   "outputs": [
    {
     "data": {
      "text/plain": [
       "(3, 3)"
      ]
     },
     "execution_count": 9,
     "metadata": {},
     "output_type": "execute_result"
    }
   ],
   "source": [
    "listArray.shape"
   ]
  },
  {
   "cell_type": "code",
   "execution_count": 10,
   "id": "a3e53065-6f99-47ce-80a2-63610b0abbb7",
   "metadata": {},
   "outputs": [
    {
     "data": {
      "text/plain": [
       "9"
      ]
     },
     "execution_count": 10,
     "metadata": {},
     "output_type": "execute_result"
    }
   ],
   "source": [
    "listArray.size"
   ]
  },
  {
   "cell_type": "code",
   "execution_count": 11,
   "id": "b1045595-5349-438e-8048-08e65533b2d5",
   "metadata": {},
   "outputs": [],
   "source": [
    "zeros = np.zeros((4,5))"
   ]
  },
  {
   "cell_type": "code",
   "execution_count": 12,
   "id": "9b9b6ec2-11e1-45d1-9de1-53eaac6b4b3f",
   "metadata": {},
   "outputs": [
    {
     "data": {
      "text/plain": [
       "array([[0., 0., 0., 0., 0.],\n",
       "       [0., 0., 0., 0., 0.],\n",
       "       [0., 0., 0., 0., 0.],\n",
       "       [0., 0., 0., 0., 0.]])"
      ]
     },
     "execution_count": 12,
     "metadata": {},
     "output_type": "execute_result"
    }
   ],
   "source": [
    "zeros"
   ]
  },
  {
   "cell_type": "code",
   "execution_count": 13,
   "id": "b4efd7c9-3ffb-4b3b-aa79-1e614702bdbc",
   "metadata": {},
   "outputs": [
    {
     "data": {
      "text/plain": [
       "(4, 5)"
      ]
     },
     "execution_count": 13,
     "metadata": {},
     "output_type": "execute_result"
    }
   ],
   "source": [
    "zeros.shape"
   ]
  },
  {
   "cell_type": "code",
   "execution_count": 14,
   "id": "3b94d685-fc74-4d36-8445-fef04d7434f8",
   "metadata": {},
   "outputs": [
    {
     "data": {
      "text/plain": [
       "20"
      ]
     },
     "execution_count": 14,
     "metadata": {},
     "output_type": "execute_result"
    }
   ],
   "source": [
    "zeros.size"
   ]
  },
  {
   "cell_type": "code",
   "execution_count": 15,
   "id": "08973e5b-4b92-403f-bbdd-05db827cd7ea",
   "metadata": {},
   "outputs": [
    {
     "data": {
      "text/plain": [
       "dtype('float64')"
      ]
     },
     "execution_count": 15,
     "metadata": {},
     "output_type": "execute_result"
    }
   ],
   "source": [
    "\n",
    "zeros.dtype"
   ]
  },
  {
   "cell_type": "code",
   "execution_count": 16,
   "id": "a64ebe96-51df-4de0-8563-1ca2536b104d",
   "metadata": {},
   "outputs": [],
   "source": [
    "rngArr = np.arange(12)"
   ]
  },
  {
   "cell_type": "code",
   "execution_count": 17,
   "id": "03f7f944-ad91-4b45-a6b9-0370711c7627",
   "metadata": {},
   "outputs": [
    {
     "data": {
      "text/plain": [
       "array([ 0,  1,  2,  3,  4,  5,  6,  7,  8,  9, 10, 11])"
      ]
     },
     "execution_count": 17,
     "metadata": {},
     "output_type": "execute_result"
    }
   ],
   "source": [
    "rngArr"
   ]
  },
  {
   "cell_type": "code",
   "execution_count": 18,
   "id": "84b40671-6419-4002-8ee8-8c437926bced",
   "metadata": {},
   "outputs": [
    {
     "data": {
      "text/plain": [
       "(12,)"
      ]
     },
     "execution_count": 18,
     "metadata": {},
     "output_type": "execute_result"
    }
   ],
   "source": [
    "rngArr.shape"
   ]
  },
  {
   "cell_type": "code",
   "execution_count": 26,
   "id": "2ee95839-1ccc-4f0e-b06b-26c305370468",
   "metadata": {},
   "outputs": [],
   "source": [
    "lspace = np.linspace(1,5, 4)"
   ]
  },
  {
   "cell_type": "code",
   "execution_count": 27,
   "id": "015b9cc1-100d-4110-a9f7-60ded0d1b424",
   "metadata": {},
   "outputs": [
    {
     "data": {
      "text/plain": [
       "array([1.        , 2.33333333, 3.66666667, 5.        ])"
      ]
     },
     "execution_count": 27,
     "metadata": {},
     "output_type": "execute_result"
    }
   ],
   "source": [
    "lspace"
   ]
  },
  {
   "cell_type": "code",
   "execution_count": 30,
   "id": "e46490d4-7025-4175-ae0c-e6ca226e0bb6",
   "metadata": {},
   "outputs": [],
   "source": [
    "emptyArr = np.empty((3,4))"
   ]
  },
  {
   "cell_type": "code",
   "execution_count": 31,
   "id": "3f1d6b8d-8168-42b3-9c8a-c01888a765c7",
   "metadata": {},
   "outputs": [
    {
     "data": {
      "text/plain": [
       "array([[1.19224146e-311, 3.16202013e-322, 0.00000000e+000,\n",
       "        0.00000000e+000],\n",
       "       [8.01097888e-307, 4.00150576e+175, 2.81910753e+179,\n",
       "        6.10249254e+170],\n",
       "       [1.65820893e-076, 5.64072851e-062, 4.42893011e-062,\n",
       "        2.59742671e-056]])"
      ]
     },
     "execution_count": 31,
     "metadata": {},
     "output_type": "execute_result"
    }
   ],
   "source": [
    "emptyArr"
   ]
  },
  {
   "cell_type": "code",
   "execution_count": 32,
   "id": "9b6ef2ad-ca6c-4948-a38c-79025cebcd09",
   "metadata": {},
   "outputs": [],
   "source": [
    "identity = np.identity(40)"
   ]
  },
  {
   "cell_type": "code",
   "execution_count": 33,
   "id": "1b10512e-820f-443d-8cf0-9655872833ed",
   "metadata": {},
   "outputs": [
    {
     "data": {
      "text/plain": [
       "array([[1., 0., 0., ..., 0., 0., 0.],\n",
       "       [0., 1., 0., ..., 0., 0., 0.],\n",
       "       [0., 0., 1., ..., 0., 0., 0.],\n",
       "       ...,\n",
       "       [0., 0., 0., ..., 1., 0., 0.],\n",
       "       [0., 0., 0., ..., 0., 1., 0.],\n",
       "       [0., 0., 0., ..., 0., 0., 1.]], shape=(40, 40))"
      ]
     },
     "execution_count": 33,
     "metadata": {},
     "output_type": "execute_result"
    }
   ],
   "source": [
    "identity"
   ]
  },
  {
   "cell_type": "code",
   "execution_count": 34,
   "id": "2f19520b-09f2-4873-a62b-c2992c04d774",
   "metadata": {},
   "outputs": [
    {
     "data": {
      "text/plain": [
       "1600"
      ]
     },
     "execution_count": 34,
     "metadata": {},
     "output_type": "execute_result"
    }
   ],
   "source": [
    "identity.size"
   ]
  },
  {
   "cell_type": "code",
   "execution_count": null,
   "id": "1003daef-b96d-47cb-9160-2c101fa598d3",
   "metadata": {},
   "outputs": [],
   "source": [
    "arr = [[2,3,1],[2,2,1],[5,5"
   ]
  }
 ],
 "metadata": {
  "kernelspec": {
   "display_name": "Python 3 (ipykernel)",
   "language": "python",
   "name": "python3"
  },
  "language_info": {
   "codemirror_mode": {
    "name": "ipython",
    "version": 3
   },
   "file_extension": ".py",
   "mimetype": "text/x-python",
   "name": "python",
   "nbconvert_exporter": "python",
   "pygments_lexer": "ipython3",
   "version": "3.13.1"
  }
 },
 "nbformat": 4,
 "nbformat_minor": 5
}

{
 "cells": [
  {
   "cell_type": "markdown",
   "id": "26d47233",
   "metadata": {},
   "source": []
  },
  {
   "cell_type": "markdown",
   "id": "812cfe03-54ba-4f4b-998b-621f25dc9375",
   "metadata": {},
   "source": [
    "# Welcome to numpy #"
   ]
  },
  {
   "cell_type": "code",
   "execution_count": 1,
   "id": "7676a45e-223a-4a51-aaee-975fa440bea9",
   "metadata": {},
   "outputs": [],
   "source": [
    "import numpy as np"
   ]
  },
  {
   "cell_type": "code",
   "execution_count": 2,
   "id": "9b627b42-51e3-476d-b09b-3c8539b21e39",
   "metadata": {},
   "outputs": [],
   "source": [
    "myArr = np.array([2,3,2,1], np.int64)"
   ]
  },
  {
   "cell_type": "code",
   "execution_count": 3,
   "id": "13404b70-fafa-4213-95fe-13a09ddc5b55",
   "metadata": {},
   "outputs": [
    {
     "data": {
      "text/plain": [
       "array([2, 3, 2, 1])"
      ]
     },
     "execution_count": 3,
     "metadata": {},
     "output_type": "execute_result"
    }
   ],
   "source": [
    "myArr"
   ]
  },
  {
   "cell_type": "code",
   "execution_count": 4,
   "id": "8fd51104-0a1f-4f86-804e-84c191ef8c21",
   "metadata": {},
   "outputs": [
    {
     "data": {
      "text/plain": [
       "(4,)"
      ]
     },
     "execution_count": 4,
     "metadata": {},
     "output_type": "execute_result"
    }
   ],
   "source": [
    "myArr.shape"
   ]
  },
  {
   "cell_type": "code",
   "execution_count": 5,
   "id": "158308ae-9e26-4aa9-b7b7-47a1580b300a",
   "metadata": {},
   "outputs": [
    {
     "data": {
      "text/plain": [
       "dtype('int64')"
      ]
     },
     "execution_count": 5,
     "metadata": {},
     "output_type": "execute_result"
    }
   ],
   "source": [
    "myArr.dtype"
   ]
  },
  {
   "cell_type": "markdown",
   "id": "d542af72-b9f4-4435-8aeb-de38e6ffbe81",
   "metadata": {},
   "source": [
    "# Array declaration in Numpy "
   ]
  },
  {
   "cell_type": "code",
   "execution_count": 6,
   "id": "5aff8a26-af00-4587-bb99-9ff7c57b2b42",
   "metadata": {},
   "outputs": [],
   "source": [
    "import numpy as np\n",
    "listArray = np.array([[1,2,3], [4,5,6], [7,8,9]])"
   ]
  },
  {
   "cell_type": "code",
   "execution_count": 7,
   "id": "5eebc33a-b023-4a0f-8634-744d87d064cd",
   "metadata": {},
   "outputs": [
    {
     "data": {
      "text/plain": [
       "array([[1, 2, 3],\n",
       "       [4, 5, 6],\n",
       "       [7, 8, 9]])"
      ]
     },
     "execution_count": 7,
     "metadata": {},
     "output_type": "execute_result"
    }
   ],
   "source": [
    "listArray"
   ]
  },
  {
   "cell_type": "code",
   "execution_count": 8,
   "id": "8a2407db-ec0b-4040-89af-7b4c9bad8d44",
   "metadata": {},
   "outputs": [
    {
     "data": {
      "text/plain": [
       "dtype('int64')"
      ]
     },
     "execution_count": 8,
     "metadata": {},
     "output_type": "execute_result"
    }
   ],
   "source": [
    "listArray.dtype"
   ]
  },
  {
   "cell_type": "code",
   "execution_count": 9,
   "id": "775e6624-6b50-4887-a8fe-79ea63dc76da",
   "metadata": {},
   "outputs": [
    {
     "data": {
      "text/plain": [
       "(3, 3)"
      ]
     },
     "execution_count": 9,
     "metadata": {},
     "output_type": "execute_result"
    }
   ],
   "source": [
    "listArray.shape"
   ]
  },
  {
   "cell_type": "code",
   "execution_count": 10,
   "id": "a3e53065-6f99-47ce-80a2-63610b0abbb7",
   "metadata": {},
   "outputs": [
    {
     "data": {
      "text/plain": [
       "9"
      ]
     },
     "execution_count": 10,
     "metadata": {},
     "output_type": "execute_result"
    }
   ],
   "source": [
    "listArray.size"
   ]
  },
  {
   "cell_type": "code",
   "execution_count": 11,
   "id": "b1045595-5349-438e-8048-08e65533b2d5",
   "metadata": {},
   "outputs": [],
   "source": [
    "zeros = np.zeros((4,5))"
   ]
  },
  {
   "cell_type": "code",
   "execution_count": 12,
   "id": "9b9b6ec2-11e1-45d1-9de1-53eaac6b4b3f",
   "metadata": {},
   "outputs": [
    {
     "data": {
      "text/plain": [
       "array([[0., 0., 0., 0., 0.],\n",
       "       [0., 0., 0., 0., 0.],\n",
       "       [0., 0., 0., 0., 0.],\n",
       "       [0., 0., 0., 0., 0.]])"
      ]
     },
     "execution_count": 12,
     "metadata": {},
     "output_type": "execute_result"
    }
   ],
   "source": [
    "zeros"
   ]
  },
  {
   "cell_type": "code",
   "execution_count": 13,
   "id": "b4efd7c9-3ffb-4b3b-aa79-1e614702bdbc",
   "metadata": {},
   "outputs": [
    {
     "data": {
      "text/plain": [
       "(4, 5)"
      ]
     },
     "execution_count": 13,
     "metadata": {},
     "output_type": "execute_result"
    }
   ],
   "source": [
    "zeros.shape"
   ]
  },
  {
   "cell_type": "code",
   "execution_count": 14,
   "id": "3b94d685-fc74-4d36-8445-fef04d7434f8",
   "metadata": {},
   "outputs": [
    {
     "data": {
      "text/plain": [
       "20"
      ]
     },
     "execution_count": 14,
     "metadata": {},
     "output_type": "execute_result"
    }
   ],
   "source": [
    "zeros.size"
   ]
  },
  {
   "cell_type": "code",
   "execution_count": 15,
   "id": "08973e5b-4b92-403f-bbdd-05db827cd7ea",
   "metadata": {},
   "outputs": [
    {
     "data": {
      "text/plain": [
       "dtype('float64')"
      ]
     },
     "execution_count": 15,
     "metadata": {},
     "output_type": "execute_result"
    }
   ],
   "source": [
    "\n",
    "zeros.dtype"
   ]
  },
  {
   "cell_type": "code",
   "execution_count": 16,
   "id": "a64ebe96-51df-4de0-8563-1ca2536b104d",
   "metadata": {},
   "outputs": [],
   "source": [
    "rngArr = np.arange(12)"
   ]
  },
  {
   "cell_type": "code",
   "execution_count": 17,
   "id": "03f7f944-ad91-4b45-a6b9-0370711c7627",
   "metadata": {},
   "outputs": [
    {
     "data": {
      "text/plain": [
       "array([ 0,  1,  2,  3,  4,  5,  6,  7,  8,  9, 10, 11])"
      ]
     },
     "execution_count": 17,
     "metadata": {},
     "output_type": "execute_result"
    }
   ],
   "source": [
    "rngArr"
   ]
  },
  {
   "cell_type": "code",
   "execution_count": 18,
   "id": "84b40671-6419-4002-8ee8-8c437926bced",
   "metadata": {},
   "outputs": [
    {
     "data": {
      "text/plain": [
       "(12,)"
      ]
     },
     "execution_count": 18,
     "metadata": {},
     "output_type": "execute_result"
    }
   ],
   "source": [
    "rngArr.shape"
   ]
  },
  {
   "cell_type": "code",
   "execution_count": 19,
   "id": "2ee95839-1ccc-4f0e-b06b-26c305370468",
   "metadata": {},
   "outputs": [],
   "source": [
    "lspace = np.linspace(1,5, 4)"
   ]
  },
  {
   "cell_type": "code",
   "execution_count": 20,
   "id": "015b9cc1-100d-4110-a9f7-60ded0d1b424",
   "metadata": {},
   "outputs": [
    {
     "data": {
      "text/plain": [
       "array([1.        , 2.33333333, 3.66666667, 5.        ])"
      ]
     },
     "execution_count": 20,
     "metadata": {},
     "output_type": "execute_result"
    }
   ],
   "source": [
    "lspace"
   ]
  },
  {
   "cell_type": "code",
   "execution_count": 21,
   "id": "e46490d4-7025-4175-ae0c-e6ca226e0bb6",
   "metadata": {},
   "outputs": [],
   "source": [
    "emptyArr = np.empty((3,4))"
   ]
  },
  {
   "cell_type": "code",
   "execution_count": 22,
   "id": "3f1d6b8d-8168-42b3-9c8a-c01888a765c7",
   "metadata": {},
   "outputs": [
    {
     "data": {
      "text/plain": [
       "array([[1.29109051e-311, 3.01380044e-322, 0.00000000e+000,\n",
       "        0.00000000e+000],\n",
       "       [1.11260619e-306, 1.16095484e-028, 2.66913348e+007,\n",
       "        5.28595592e-085],\n",
       "       [2.93625480e-062, 2.59027849e-144, 4.82412328e+228,\n",
       "        1.04718130e-142]])"
      ]
     },
     "execution_count": 22,
     "metadata": {},
     "output_type": "execute_result"
    }
   ],
   "source": [
    "emptyArr"
   ]
  },
  {
   "cell_type": "code",
   "execution_count": 23,
   "id": "9b6ef2ad-ca6c-4948-a38c-79025cebcd09",
   "metadata": {},
   "outputs": [],
   "source": [
    "identity = np.identity(40)"
   ]
  },
  {
   "cell_type": "code",
   "execution_count": 24,
   "id": "1b10512e-820f-443d-8cf0-9655872833ed",
   "metadata": {},
   "outputs": [
    {
     "data": {
      "text/plain": [
       "array([[1., 0., 0., ..., 0., 0., 0.],\n",
       "       [0., 1., 0., ..., 0., 0., 0.],\n",
       "       [0., 0., 1., ..., 0., 0., 0.],\n",
       "       ...,\n",
       "       [0., 0., 0., ..., 1., 0., 0.],\n",
       "       [0., 0., 0., ..., 0., 1., 0.],\n",
       "       [0., 0., 0., ..., 0., 0., 1.]], shape=(40, 40))"
      ]
     },
     "execution_count": 24,
     "metadata": {},
     "output_type": "execute_result"
    }
   ],
   "source": [
    "identity"
   ]
  },
  {
   "cell_type": "code",
   "execution_count": 25,
   "id": "2f19520b-09f2-4873-a62b-c2992c04d774",
   "metadata": {},
   "outputs": [
    {
     "data": {
      "text/plain": [
       "1600"
      ]
     },
     "execution_count": 25,
     "metadata": {},
     "output_type": "execute_result"
    }
   ],
   "source": [
    "identity.size"
   ]
  },
  {
   "cell_type": "code",
   "execution_count": 26,
   "id": "1003daef-b96d-47cb-9160-2c101fa598d3",
   "metadata": {},
   "outputs": [],
   "source": [
    "arr = np.array([[2,3,1],[2,2,1],[5,3,3]])"
   ]
  },
  {
   "cell_type": "code",
   "execution_count": 27,
   "id": "bdea06a7-317a-4c1d-b968-85786c605ebf",
   "metadata": {},
   "outputs": [
    {
     "data": {
      "text/plain": [
       "array([[2, 3, 1],\n",
       "       [2, 2, 1],\n",
       "       [5, 3, 3]])"
      ]
     },
     "execution_count": 27,
     "metadata": {},
     "output_type": "execute_result"
    }
   ],
   "source": [
    "arr"
   ]
  },
  {
   "cell_type": "code",
   "execution_count": 28,
   "id": "4f76f7bc-655c-4886-bddf-edf73d32aa96",
   "metadata": {},
   "outputs": [
    {
     "data": {
      "text/plain": [
       "array([9, 8, 5])"
      ]
     },
     "execution_count": 28,
     "metadata": {},
     "output_type": "execute_result"
    }
   ],
   "source": [
    "arr.sum(axis= 0)"
   ]
  },
  {
   "cell_type": "code",
   "execution_count": 29,
   "id": "fa67c44c-f638-4087-9b03-c896f7989e23",
   "metadata": {},
   "outputs": [
    {
     "data": {
      "text/plain": [
       "array([ 6,  5, 11])"
      ]
     },
     "execution_count": 29,
     "metadata": {},
     "output_type": "execute_result"
    }
   ],
   "source": [
    "arr.sum(axis = 1)"
   ]
  },
  {
   "cell_type": "markdown",
   "id": "bcd0b691-83a9-45be-a3eb-3f0097cd51e1",
   "metadata": {},
   "source": [
    "* Transpose "
   ]
  },
  {
   "cell_type": "code",
   "execution_count": 30,
   "id": "dd44344d-a2fb-49ab-a691-5f40ecd7d6fb",
   "metadata": {},
   "outputs": [
    {
     "data": {
      "text/plain": [
       "array([[2, 2, 5],\n",
       "       [3, 2, 3],\n",
       "       [1, 1, 3]])"
      ]
     },
     "execution_count": 30,
     "metadata": {},
     "output_type": "execute_result"
    }
   ],
   "source": [
    "arr.T"
   ]
  },
  {
   "cell_type": "code",
   "execution_count": 31,
   "id": "6e10637a-ec75-4d1f-a928-3d2c02ef8ffd",
   "metadata": {},
   "outputs": [],
   "source": [
    "it = arr.flat"
   ]
  },
  {
   "cell_type": "code",
   "execution_count": 32,
   "id": "d709c9fb-2e89-4c14-93b8-0ccd0fd9738c",
   "metadata": {},
   "outputs": [
    {
     "name": "stdout",
     "output_type": "stream",
     "text": [
      "2\n",
      "3\n",
      "1\n",
      "2\n",
      "2\n",
      "1\n",
      "5\n",
      "3\n",
      "3\n"
     ]
    }
   ],
   "source": [
    "for it in arr.flat:\n",
    "    print(it)"
   ]
  },
  {
   "cell_type": "code",
   "execution_count": 33,
   "id": "94290bc9-1dd1-4c6e-b3e1-d30f9ad3e403",
   "metadata": {},
   "outputs": [
    {
     "data": {
      "text/plain": [
       "2"
      ]
     },
     "execution_count": 33,
     "metadata": {},
     "output_type": "execute_result"
    }
   ],
   "source": [
    "arr.ndim"
   ]
  },
  {
   "cell_type": "code",
   "execution_count": 34,
   "id": "239f4365-7ece-4826-8548-aa78df1d124c",
   "metadata": {},
   "outputs": [
    {
     "data": {
      "text/plain": [
       "72"
      ]
     },
     "execution_count": 34,
     "metadata": {},
     "output_type": "execute_result"
    }
   ],
   "source": [
    "arr.nbytes"
   ]
  },
  {
   "cell_type": "code",
   "execution_count": 35,
   "id": "fe62fc9e-e83b-4b2c-a795-a5f41d2ac9bc",
   "metadata": {},
   "outputs": [
    {
     "data": {
      "text/plain": [
       "12800"
      ]
     },
     "execution_count": 35,
     "metadata": {},
     "output_type": "execute_result"
    }
   ],
   "source": [
    "identity.nbytes"
   ]
  },
  {
   "cell_type": "code",
   "execution_count": 36,
   "id": "2b008411-3089-42b4-a5f9-5a5a1de9558e",
   "metadata": {},
   "outputs": [
    {
     "data": {
      "text/plain": [
       "np.int64(6)"
      ]
     },
     "execution_count": 36,
     "metadata": {},
     "output_type": "execute_result"
    }
   ],
   "source": [
    "arr.argmax()"
   ]
  },
  {
   "cell_type": "code",
   "execution_count": 37,
   "id": "c6c03f83-b7f2-491a-9d3b-d831d9a28e58",
   "metadata": {},
   "outputs": [
    {
     "data": {
      "text/plain": [
       "np.int64(1)"
      ]
     },
     "execution_count": 37,
     "metadata": {},
     "output_type": "execute_result"
    }
   ],
   "source": [
    "myArr.argmax()"
   ]
  },
  {
   "cell_type": "code",
   "execution_count": 38,
   "id": "23435e54-3f4a-4465-bd0c-8468812deb13",
   "metadata": {},
   "outputs": [],
   "source": [
    "one = np.array([3,1,6])"
   ]
  },
  {
   "cell_type": "code",
   "execution_count": 39,
   "id": "e224a9ec-a183-4a7b-ac8b-edb75990102b",
   "metadata": {},
   "outputs": [
    {
     "data": {
      "text/plain": [
       "array([3, 1, 6])"
      ]
     },
     "execution_count": 39,
     "metadata": {},
     "output_type": "execute_result"
    }
   ],
   "source": [
    "one"
   ]
  },
  {
   "cell_type": "code",
   "execution_count": 40,
   "id": "1de2cc16-eb1c-4086-afe6-7fe7ad7ac871",
   "metadata": {},
   "outputs": [
    {
     "data": {
      "text/plain": [
       "np.int64(2)"
      ]
     },
     "execution_count": 40,
     "metadata": {},
     "output_type": "execute_result"
    }
   ],
   "source": [
    "one.argmax()"
   ]
  },
  {
   "cell_type": "code",
   "execution_count": 41,
   "id": "36332011-7b61-4467-8f58-f0e50fdcb59e",
   "metadata": {},
   "outputs": [
    {
     "data": {
      "text/plain": [
       "np.int64(6)"
      ]
     },
     "execution_count": 41,
     "metadata": {},
     "output_type": "execute_result"
    }
   ],
   "source": [
    "one.max()"
   ]
  },
  {
   "cell_type": "code",
   "execution_count": 42,
   "id": "9630377d-9cbc-42ed-9705-5824936a2698",
   "metadata": {},
   "outputs": [
    {
     "data": {
      "text/plain": [
       "np.int64(1)"
      ]
     },
     "execution_count": 42,
     "metadata": {},
     "output_type": "execute_result"
    }
   ],
   "source": [
    "one.min()"
   ]
  },
  {
   "cell_type": "code",
   "execution_count": 43,
   "id": "95cd3f1a-4cbf-4290-9a77-d41b398e1ab9",
   "metadata": {},
   "outputs": [
    {
     "data": {
      "text/plain": [
       "array([1, 0, 2])"
      ]
     },
     "execution_count": 43,
     "metadata": {},
     "output_type": "execute_result"
    }
   ],
   "source": [
    "one.argsort()"
   ]
  },
  {
   "cell_type": "code",
   "execution_count": 44,
   "id": "e82139f2-1d0b-416e-aa6f-e87de766e582",
   "metadata": {},
   "outputs": [
    {
     "data": {
      "text/plain": [
       "np.int64(2)"
      ]
     },
     "execution_count": 44,
     "metadata": {},
     "output_type": "execute_result"
    }
   ],
   "source": [
    "arr.argmin()"
   ]
  },
  {
   "cell_type": "code",
   "execution_count": 45,
   "id": "408f9a71-1ddf-4d4d-87e7-d6f7e72c2408",
   "metadata": {},
   "outputs": [
    {
     "data": {
      "text/plain": [
       "array([[2, 3, 1],\n",
       "       [2, 2, 1],\n",
       "       [5, 3, 3]])"
      ]
     },
     "execution_count": 45,
     "metadata": {},
     "output_type": "execute_result"
    }
   ],
   "source": [
    "arr"
   ]
  },
  {
   "cell_type": "code",
   "execution_count": 46,
   "id": "ddf10a4f-4d93-4a0f-9227-c35d82328d51",
   "metadata": {},
   "outputs": [],
   "source": [
    "arr[0,2] = 0"
   ]
  },
  {
   "cell_type": "code",
   "execution_count": 47,
   "id": "1d38a32a-d8e8-4055-875b-10ebeca0e38e",
   "metadata": {},
   "outputs": [
    {
     "data": {
      "text/plain": [
       "array([[2, 3, 0],\n",
       "       [2, 2, 1],\n",
       "       [5, 3, 3]])"
      ]
     },
     "execution_count": 47,
     "metadata": {},
     "output_type": "execute_result"
    }
   ],
   "source": [
    "arr"
   ]
  },
  {
   "cell_type": "code",
   "execution_count": 48,
   "id": "41d47121-1132-4875-8790-5bb7eb043c50",
   "metadata": {},
   "outputs": [
    {
     "data": {
      "text/plain": [
       "np.int64(2)"
      ]
     },
     "execution_count": 48,
     "metadata": {},
     "output_type": "execute_result"
    }
   ],
   "source": [
    "arr.argmin()"
   ]
  },
  {
   "cell_type": "code",
   "execution_count": 49,
   "id": "baf60e35-99c3-4b7d-b219-ab1b293f5ee1",
   "metadata": {},
   "outputs": [
    {
     "data": {
      "text/plain": [
       "np.int64(6)"
      ]
     },
     "execution_count": 49,
     "metadata": {},
     "output_type": "execute_result"
    }
   ],
   "source": [
    "arr.argmax()"
   ]
  },
  {
   "cell_type": "code",
   "execution_count": 50,
   "id": "b0e1bbc2-abb8-4818-a387-a8a475157245",
   "metadata": {},
   "outputs": [
    {
     "data": {
      "text/plain": [
       "array([0, 1, 0])"
      ]
     },
     "execution_count": 50,
     "metadata": {},
     "output_type": "execute_result"
    }
   ],
   "source": [
    "arr.argmin(axis = 0)"
   ]
  },
  {
   "cell_type": "code",
   "execution_count": 51,
   "id": "3f461653-89f3-4d3f-a06d-13275a700f08",
   "metadata": {},
   "outputs": [
    {
     "data": {
      "text/plain": [
       "array([[2, 0, 1],\n",
       "       [2, 0, 1],\n",
       "       [1, 2, 0]])"
      ]
     },
     "execution_count": 51,
     "metadata": {},
     "output_type": "execute_result"
    }
   ],
   "source": [
    "arr.argsort()"
   ]
  },
  {
   "cell_type": "code",
   "execution_count": 52,
   "id": "3441e3a8-6282-450f-93f3-d084d863d43a",
   "metadata": {},
   "outputs": [
    {
     "data": {
      "text/plain": [
       "array([[2, 0, 1],\n",
       "       [2, 0, 1],\n",
       "       [1, 2, 0]])"
      ]
     },
     "execution_count": 52,
     "metadata": {},
     "output_type": "execute_result"
    }
   ],
   "source": [
    "arr.argsort(axis = 1)"
   ]
  },
  {
   "cell_type": "code",
   "execution_count": null,
   "id": "826a8f46-71d5-42a7-bc63-152c674a9ea6",
   "metadata": {},
   "outputs": [],
   "source": []
  }
 ],
 "metadata": {
  "kernelspec": {
   "display_name": "Python 3 (ipykernel)",
   "language": "python",
   "name": "python3"
  },
  "language_info": {
   "codemirror_mode": {
    "name": "ipython",
    "version": 3
   },
   "file_extension": ".py",
   "mimetype": "text/x-python",
   "name": "python",
   "nbconvert_exporter": "python",
   "pygments_lexer": "ipython3",
   "version": "3.13.1"
  }
 },
 "nbformat": 4,
 "nbformat_minor": 5
}
